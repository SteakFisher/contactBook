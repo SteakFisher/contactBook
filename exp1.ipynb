{
  "nbformat": 4,
  "nbformat_minor": 0,
  "metadata": {
    "colab": {
      "provenance": [],
      "authorship_tag": "ABX9TyONFvhd6Kog5fKRzLhNsFzu",
      "include_colab_link": true
    },
    "kernelspec": {
      "name": "python3",
      "display_name": "Python 3"
    },
    "language_info": {
      "name": "python"
    }
  },
  "cells": [
    {
      "cell_type": "markdown",
      "metadata": {
        "id": "view-in-github",
        "colab_type": "text"
      },
      "source": [
        "<a href=\"https://colab.research.google.com/github/SteakFisher/contactBook/blob/main/exp1.ipynb\" target=\"_parent\"><img src=\"https://colab.research.google.com/assets/colab-badge.svg\" alt=\"Open In Colab\"/></a>"
      ]
    },
    {
      "cell_type": "code",
      "execution_count": null,
      "metadata": {
        "colab": {
          "base_uri": "https://localhost:8080/"
        },
        "id": "aZvy3qLhhso_",
        "outputId": "b2e4cecf-bb79-41f1-d13c-9e981c4e84f7"
      },
      "outputs": [
        {
          "output_type": "stream",
          "name": "stdout",
          "text": [
            "Enter your name:jaeden\n",
            "Hello jaeden\n"
          ]
        }
      ],
      "source": [
        "name=input(\"Enter your name:\")\n",
        "print(\"Hello\", name)"
      ]
    },
    {
      "cell_type": "code",
      "source": [
        "a=int(input(\"Enter first number:\"))\n",
        "b=int(input(\"Enter second number:\"))\n",
        "c=int(input(\"Enter third number:\"))\n",
        "print(\"Sum:\",a+b+c)"
      ],
      "metadata": {
        "colab": {
          "base_uri": "https://localhost:8080/"
        },
        "id": "AkpfEGx5iCB7",
        "outputId": "fd66b1b6-039e-46c8-dfc0-78231d77e46c"
      },
      "execution_count": null,
      "outputs": [
        {
          "output_type": "stream",
          "name": "stdout",
          "text": [
            "Enter first number:5\n",
            "Enter second number:2\n",
            "Enter third number:7\n",
            "Sum: 14\n"
          ]
        }
      ]
    },
    {
      "cell_type": "code",
      "source": [
        "n=int(input(\"Enter a three digit number:\"))\n",
        "a=n%10\n",
        "b=(n//10)%10\n",
        "c=n//100\n",
        "res=(a**3)+(b**3)+(c**3)\n",
        "print(\"Result:\",res)"
      ],
      "metadata": {
        "colab": {
          "base_uri": "https://localhost:8080/"
        },
        "id": "RJ-QqWF7i6K9",
        "outputId": "8ee1411b-9f34-481d-fd89-8e4c15fad72b"
      },
      "execution_count": null,
      "outputs": [
        {
          "output_type": "stream",
          "name": "stdout",
          "text": [
            "Enter a three digit number:432\n",
            "Result: 99\n"
          ]
        }
      ]
    },
    {
      "cell_type": "code",
      "source": [
        "str=input(\"Enter a string:\")\n",
        "print(\"Length:\",len(str))\n",
        "print(str.split())\n",
        "''' len() display no. of characters in the string\n",
        "split() splits the entered string by the delimiter given in the argument'''"
      ],
      "metadata": {
        "colab": {
          "base_uri": "https://localhost:8080/"
        },
        "id": "gdd6k2d1kHSu",
        "outputId": "27259d82-06fa-4b15-e130-23d4c499aaf5"
      },
      "execution_count": null,
      "outputs": [
        {
          "output_type": "stream",
          "name": "stdout",
          "text": [
            "Enter a string:My name is Jaeden\n",
            "Length: 17\n",
            "['My', 'name', 'is', 'Jaeden']\n"
          ]
        }
      ]
    },
    {
      "cell_type": "code",
      "source": [
        "print(\"Enter 1st complex number...\")\n",
        "a=int(input(\"Enter real part:\"))\n",
        "b=int(input(\"Enter imaginary part:\"))\n",
        "print(\"Enter 2nd complex number...\")\n",
        "c=int(input(\"Enter real part:\"))\n",
        "d=int(input(\"Enter imaginary part:\"))\n",
        "c1=complex(a,b)\n",
        "c2=complex(c,d)\n",
        "print(\"Sum:\",c1+c2)"
      ],
      "metadata": {
        "colab": {
          "base_uri": "https://localhost:8080/"
        },
        "id": "z6C_n3sjlMnF",
        "outputId": "3430cbc6-6220-4f8c-fbec-34b038a96b4d"
      },
      "execution_count": null,
      "outputs": [
        {
          "output_type": "stream",
          "name": "stdout",
          "text": [
            "Enter 1st complex number...\n",
            "Enter real part:5\n",
            "Enter imaginary part:3\n",
            "Enter 2nd complex number...\n",
            "Enter real part:4\n",
            "Enter imaginary part:7\n",
            "Sum: (9+10j)\n"
          ]
        }
      ]
    },
    {
      "cell_type": "code",
      "source": [
        "a=int(input(\"Enter value of a:\"))\n",
        "b=int(input(\"Enter value of b:\"))\n",
        "c=a\n",
        "a=b\n",
        "b=c\n",
        "print(\"After swapping...\")\n",
        "print(\"a:\",a)\n",
        "print(\"b:\",b)"
      ],
      "metadata": {
        "colab": {
          "base_uri": "https://localhost:8080/"
        },
        "id": "C86hXdIol3KN",
        "outputId": "6e929415-fbe7-4b65-de63-11e4bf0547e9"
      },
      "execution_count": null,
      "outputs": [
        {
          "output_type": "stream",
          "name": "stdout",
          "text": [
            "Enter value of a:7\n",
            "Enter value of b:2\n",
            "After swapping...\n",
            "a: 2\n",
            "b: 7\n"
          ]
        }
      ]
    },
    {
      "cell_type": "code",
      "source": [
        "p=float(input(\"Enter principal amount:\"))\n",
        "r=float(input(\"Enter rate:\"))\n",
        "t=float(input(\"Enter time:\"))\n",
        "print(\"Simple interest:\",(p*r*t)/100)"
      ],
      "metadata": {
        "colab": {
          "base_uri": "https://localhost:8080/"
        },
        "id": "uEiki2Lsmizi",
        "outputId": "210ad0a1-7e2c-42e6-fe3b-39f6e31b852b"
      },
      "execution_count": null,
      "outputs": [
        {
          "output_type": "stream",
          "name": "stdout",
          "text": [
            "Enter principal amount:5000\n",
            "Enter rate:6.5\n",
            "Enter time:2\n",
            "Simple interest: 650.0\n"
          ]
        }
      ]
    },
    {
      "cell_type": "code",
      "source": [
        "p=int(input(\"Enter initial principal balance:\"))\n",
        "r=float(input(\"Enter annual interest rate:\"))\n",
        "t=int(input(\"Enter no. of years:\"))\n",
        "n=int(input(\"Enter no. of times interest is compounded per year:\"))\n",
        "print(\"Compound interest:\",p*(1+(r/n))**(n*t))\n"
      ],
      "metadata": {
        "colab": {
          "base_uri": "https://localhost:8080/"
        },
        "id": "zPFtWoi-nFhq",
        "outputId": "1b0790db-a7d6-45d9-ae78-bccde4a76807"
      },
      "execution_count": null,
      "outputs": [
        {
          "output_type": "stream",
          "name": "stdout",
          "text": [
            "Enter initial principal balance:1000\n",
            "Enter annual interest rate:0.04\n",
            "Enter no. of years:3\n",
            "Enter no. of times interest is compounded per year:4\n",
            "Compound interest: 1126.8250301319697\n"
          ]
        }
      ]
    },
    {
      "cell_type": "code",
      "source": [
        "print(\"    *  \")\n",
        "print(\"   *** \")\n",
        "print(\"  *****\")\n",
        "print(\" *******\")\n",
        "print(\"*********\")\n"
      ],
      "metadata": {
        "colab": {
          "base_uri": "https://localhost:8080/"
        },
        "id": "q0jlOLchoTQ-",
        "outputId": "b21fe510-9d37-415b-dd01-7e6e5703d7a0"
      },
      "execution_count": null,
      "outputs": [
        {
          "output_type": "stream",
          "name": "stdout",
          "text": [
            "    *  \n",
            "   *** \n",
            "  *****\n",
            " *******\n",
            "*********\n"
          ]
        }
      ]
    },
    {
      "cell_type": "code",
      "source": [
        "sal=int(input(\"Enter basic salary:\"))\n",
        "da=0.1*sal\n",
        "hra=0.15*sal\n",
        "print(\"Gross salary:\",sal+da+hra)"
      ],
      "metadata": {
        "colab": {
          "base_uri": "https://localhost:8080/"
        },
        "id": "gJXKjxXiqgTA",
        "outputId": "7d16903c-78cf-469f-b426-3a64525a54af"
      },
      "execution_count": null,
      "outputs": [
        {
          "output_type": "stream",
          "name": "stdout",
          "text": [
            "Enter basic salary:3000\n",
            "Gross salary: 3750.0\n"
          ]
        }
      ]
    }
  ]
}